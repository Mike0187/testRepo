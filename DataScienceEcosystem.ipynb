{
 "cells": [
  {
   "cell_type": "markdown",
   "id": "ec771205-c325-4a62-bb3f-9d7228a5e33f",
   "metadata": {},
   "source": [
    "# Data Science Tools and Ecosystem"
   ]
  },
  {
   "cell_type": "markdown",
   "id": "00410374-08b5-4abf-996d-3218761e7d8f",
   "metadata": {},
   "source": [
    "In this notebook, Data Science Tools and Ecosystem are summarized."
   ]
  },
  {
   "cell_type": "markdown",
   "id": "b61552da-839d-4f9a-9649-b44057a5e2c0",
   "metadata": {},
   "source": [
    "**Objectives:**\n",
    "1. List 3 data science languages\n",
    "2. take a look at some commonly used libraries in data science\n",
    "3. create a markdown table with a single column\n",
    "4. perform some simple arithmetics in Jupyter notebooks"
   ]
  },
  {
   "cell_type": "markdown",
   "id": "d9a92efd-1759-47ca-b293-4462ce1ce9c0",
   "metadata": {},
   "source": [
    "Some of the popular languages that Data Scientists use are:\n",
    "1. Python\n",
    "2. R\n",
    "3. C++"
   ]
  },
  {
   "cell_type": "markdown",
   "id": "015b4b02-6190-49cb-80de-a24c4dc7ca56",
   "metadata": {},
   "source": [
    "Some of the commonly used libraries used by Data Scientists include:\n",
    "1. ggplot\n",
    "2. caret\n",
    "3. dplyr"
   ]
  },
  {
   "cell_type": "markdown",
   "id": "c1826f99-d399-4979-b249-45f8cf29e74e",
   "metadata": {},
   "source": [
    "|Data Science Tools|\n",
    "|---------|\n",
    "|RStudio|\n",
    "|---------|\n",
    "|TensorFlow|\n",
    "|---------|\n",
    "|Hadoop|\n",
    "|---------|"
   ]
  },
  {
   "cell_type": "markdown",
   "id": "0f1911f4-e936-4049-93a0-5cabaa004f51",
   "metadata": {},
   "source": [
    "### Below are a few examples of evaluating arithmetic expressions in Python"
   ]
  },
  {
   "cell_type": "code",
   "execution_count": 2,
   "id": "24d4c501-51f1-48d1-a82f-957ca44cbebe",
   "metadata": {},
   "outputs": [],
   "source": [
    "#This a simple arithmetic expression to mutiply then add integers"
   ]
  },
  {
   "cell_type": "code",
   "execution_count": 3,
   "id": "1c9fdcd7-0f6e-4b8a-aab1-5ee37276294e",
   "metadata": {},
   "outputs": [
    {
     "data": {
      "text/plain": [
       "17"
      ]
     },
     "execution_count": 3,
     "metadata": {},
     "output_type": "execute_result"
    }
   ],
   "source": [
    "(3*4)+5"
   ]
  },
  {
   "cell_type": "code",
   "execution_count": 4,
   "id": "567fde19-ed32-4128-8d9b-a2612c5d95cf",
   "metadata": {},
   "outputs": [
    {
     "data": {
      "text/plain": [
       "3.3333333333333335"
      ]
     },
     "execution_count": 4,
     "metadata": {},
     "output_type": "execute_result"
    }
   ],
   "source": [
    "#This will convert 200 minutes to hours by diving by 60\n",
    "200/60"
   ]
  },
  {
   "cell_type": "markdown",
   "id": "62637337-fd7b-44dc-a18e-c6c106a996b4",
   "metadata": {},
   "source": [
    "## Author\n",
    "Michael Agblom Nuerteye"
   ]
  },
  {
   "cell_type": "code",
   "execution_count": null,
   "id": "47036692-6680-41ed-829e-e7559f7bac1f",
   "metadata": {},
   "outputs": [],
   "source": []
  }
 ],
 "metadata": {
  "kernelspec": {
   "display_name": "Python 3 (ipykernel)",
   "language": "python",
   "name": "python3"
  },
  "language_info": {
   "codemirror_mode": {
    "name": "ipython",
    "version": 3
   },
   "file_extension": ".py",
   "mimetype": "text/x-python",
   "name": "python",
   "nbconvert_exporter": "python",
   "pygments_lexer": "ipython3",
   "version": "3.10.9"
  }
 },
 "nbformat": 4,
 "nbformat_minor": 5
}
